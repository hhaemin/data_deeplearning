{
  "cells": [
    {
      "cell_type": "markdown",
      "metadata": {
        "id": "view-in-github",
        "colab_type": "text"
      },
      "source": [
        "<a href=\"https://colab.research.google.com/github/hhaemin/data_deeplearning/blob/main/Numpy%E1%84%85%E1%85%A9_FFN_%E1%84%86%E1%85%A1%E1%86%AB%E1%84%83%E1%85%B3%E1%86%AF%E1%84%80%E1%85%B5.ipynb\" target=\"_parent\"><img src=\"https://colab.research.google.com/assets/colab-badge.svg\" alt=\"Open In Colab\"/></a>"
      ]
    },
    {
      "cell_type": "code",
      "execution_count": 1,
      "metadata": {
        "id": "uw-xQ-hecwgt"
      },
      "outputs": [],
      "source": [
        "import numpy as np\n",
        "import pandas as pd"
      ]
    },
    {
      "cell_type": "code",
      "execution_count": 2,
      "metadata": {
        "id": "b2TOR7TQcwgv"
      },
      "outputs": [],
      "source": [
        "learning_rate = 0.001 #아주 기본적인 형식\n",
        "bias = 0.7 #매우 무작위적인 변수\n",
        "epochs = 50 \n",
        "final_epoch_loss = []"
      ]
    },
    {
      "cell_type": "code",
      "execution_count": 3,
      "metadata": {
        "id": "w0dgwQoZcwgv"
      },
      "outputs": [],
      "source": [
        "random_generator = np.random.default_rng() #입력, 출력 및 가중치와 같은 일부 임의 기능을 생성하는데 사용\n",
        "\n",
        "def generate_data(n_features, n_values):\n",
        "    weights = random_generator.random((1, n_values))[0] #n_values : 각 데이터 포인트에 얼마나 많은 피쳐가 있어야 하는지를 의미\n",
        "    features = random_generator.random((n_features, n_values))\n",
        "    targets = np.random.choice([0,1], n_features) #n_features : 데이터에 얼마나 많은 데이터 포인트 또는 샘플이 있어야 하는지를 의미\n",
        "    data = pd.DataFrame(features, columns=[\"n1\", \"n2\", \"n3\", \"n4\"])\n",
        "    data[\"target\"] = targets\n",
        "    return data, weights"
      ]
    },
    {
      "cell_type": "code",
      "execution_count": 5,
      "metadata": {
        "id": "k8ddzgaycwgw"
      },
      "outputs": [],
      "source": [
        "def get_weighted_sum(features, weights, bias): #가중치의 합계\n",
        "    return np.dot(features, weights) + bias"
      ]
    },
    {
      "cell_type": "code",
      "execution_count": 6,
      "metadata": {
        "id": "3VFxbtgIcwgw"
      },
      "outputs": [],
      "source": [
        "def sigmoid(x):\n",
        "    return 1/(1+np.exp(-x))"
      ]
    },
    {
      "cell_type": "code",
      "execution_count": 7,
      "metadata": {
        "id": "FXCD-UY7cwgw"
      },
      "outputs": [],
      "source": [
        "def cross_entropy_loss(target, prediction):\n",
        "    return -(target*np.log10(prediction) + (1-target)*np.log10(1-prediction))"
      ]
    },
    {
      "cell_type": "code",
      "execution_count": 8,
      "metadata": {
        "id": "UITE6ZUfcwgw"
      },
      "outputs": [],
      "source": [
        "#각 반복 후에 loss에 따라 bias와 가중치를 업데이트해야 합니다.\n",
        "def update_weights(weights, learning_rate, target, prediction, feature):\n",
        "    new_weights = []\n",
        "    for input_x, old_weight in zip(feature, weights):\n",
        "        new_weight = old_weight + learning_rate*(target - prediction)*input_x\n",
        "        new_weights.append(new_weight)\n",
        "    return new_weights\n",
        "\n",
        "def update_bias(bias, learning_rate, target, prediction):\n",
        "    return bias + learning_rate*(target-prediction)"
      ]
    },
    {
      "cell_type": "code",
      "execution_count": 10,
      "metadata": {
        "id": "K7IdUwbPcwgx"
      },
      "outputs": [],
      "source": [
        "data, weights = generate_data(500,4)\n",
        "\n",
        "def train_model(data, weights, bias, learning_rate, epochs):\n",
        "    for epoch in range(epochs):\n",
        "        individual_loss = []\n",
        "        for i in range(0, len(data)):\n",
        "            feature = data.loc[i][:-1]\n",
        "            # [\"n1\", \"n2\", \"n3\", \"n4\"] ... features\n",
        "            target = data.loc[i][-1] #.... \"target\"\n",
        "            w_sum = get_weighted_sum(features=feature, weights=weights, bias=bias)\n",
        "            prediction = sigmoid(w_sum)\n",
        "            loss = cross_entropy_loss(target, prediction)\n",
        "            individual_loss.append(loss) #매 epoch가 지나면 발생하는 loss를 의미\n",
        "            weights = update_weights(weights, learning_rate, target, prediction, feature)\n",
        "            bias = update_bias(bias, learning_rate, target, prediction)\n",
        "        average_loss = sum(individual_loss)/len(individual_loss) \n",
        "        final_epoch_loss.append(average_loss)\n",
        "        print(f\"******************************** Epoch: {epoch} , Loss:  {average_loss}\")"
      ]
    },
    {
      "cell_type": "code",
      "source": [
        "data"
      ],
      "metadata": {
        "colab": {
          "base_uri": "https://localhost:8080/",
          "height": 424
        },
        "id": "7_IEC85Envht",
        "outputId": "1019b583-8f60-48b0-eacc-c428745824a5"
      },
      "execution_count": 14,
      "outputs": [
        {
          "output_type": "execute_result",
          "data": {
            "text/plain": [
              "           n1        n2        n3        n4  target\n",
              "0    0.304884  0.856867  0.567777  0.775876       1\n",
              "1    0.038482  0.446371  0.538764  0.737608       1\n",
              "2    0.090996  0.236830  0.494725  0.693680       0\n",
              "3    0.627957  0.860822  0.430142  0.390540       0\n",
              "4    0.529902  0.283847  0.823363  0.546941       0\n",
              "..        ...       ...       ...       ...     ...\n",
              "495  0.196773  0.881927  0.257162  0.697437       1\n",
              "496  0.147659  0.393737  0.696006  0.744848       0\n",
              "497  0.477117  0.366646  0.125456  0.281652       0\n",
              "498  0.375052  0.561252  0.762315  0.763593       0\n",
              "499  0.164872  0.641940  0.459453  0.704491       1\n",
              "\n",
              "[500 rows x 5 columns]"
            ],
            "text/html": [
              "\n",
              "  <div id=\"df-dc130b3d-6478-4e9d-a0ba-3a48953e46e0\">\n",
              "    <div class=\"colab-df-container\">\n",
              "      <div>\n",
              "<style scoped>\n",
              "    .dataframe tbody tr th:only-of-type {\n",
              "        vertical-align: middle;\n",
              "    }\n",
              "\n",
              "    .dataframe tbody tr th {\n",
              "        vertical-align: top;\n",
              "    }\n",
              "\n",
              "    .dataframe thead th {\n",
              "        text-align: right;\n",
              "    }\n",
              "</style>\n",
              "<table border=\"1\" class=\"dataframe\">\n",
              "  <thead>\n",
              "    <tr style=\"text-align: right;\">\n",
              "      <th></th>\n",
              "      <th>n1</th>\n",
              "      <th>n2</th>\n",
              "      <th>n3</th>\n",
              "      <th>n4</th>\n",
              "      <th>target</th>\n",
              "    </tr>\n",
              "  </thead>\n",
              "  <tbody>\n",
              "    <tr>\n",
              "      <th>0</th>\n",
              "      <td>0.304884</td>\n",
              "      <td>0.856867</td>\n",
              "      <td>0.567777</td>\n",
              "      <td>0.775876</td>\n",
              "      <td>1</td>\n",
              "    </tr>\n",
              "    <tr>\n",
              "      <th>1</th>\n",
              "      <td>0.038482</td>\n",
              "      <td>0.446371</td>\n",
              "      <td>0.538764</td>\n",
              "      <td>0.737608</td>\n",
              "      <td>1</td>\n",
              "    </tr>\n",
              "    <tr>\n",
              "      <th>2</th>\n",
              "      <td>0.090996</td>\n",
              "      <td>0.236830</td>\n",
              "      <td>0.494725</td>\n",
              "      <td>0.693680</td>\n",
              "      <td>0</td>\n",
              "    </tr>\n",
              "    <tr>\n",
              "      <th>3</th>\n",
              "      <td>0.627957</td>\n",
              "      <td>0.860822</td>\n",
              "      <td>0.430142</td>\n",
              "      <td>0.390540</td>\n",
              "      <td>0</td>\n",
              "    </tr>\n",
              "    <tr>\n",
              "      <th>4</th>\n",
              "      <td>0.529902</td>\n",
              "      <td>0.283847</td>\n",
              "      <td>0.823363</td>\n",
              "      <td>0.546941</td>\n",
              "      <td>0</td>\n",
              "    </tr>\n",
              "    <tr>\n",
              "      <th>...</th>\n",
              "      <td>...</td>\n",
              "      <td>...</td>\n",
              "      <td>...</td>\n",
              "      <td>...</td>\n",
              "      <td>...</td>\n",
              "    </tr>\n",
              "    <tr>\n",
              "      <th>495</th>\n",
              "      <td>0.196773</td>\n",
              "      <td>0.881927</td>\n",
              "      <td>0.257162</td>\n",
              "      <td>0.697437</td>\n",
              "      <td>1</td>\n",
              "    </tr>\n",
              "    <tr>\n",
              "      <th>496</th>\n",
              "      <td>0.147659</td>\n",
              "      <td>0.393737</td>\n",
              "      <td>0.696006</td>\n",
              "      <td>0.744848</td>\n",
              "      <td>0</td>\n",
              "    </tr>\n",
              "    <tr>\n",
              "      <th>497</th>\n",
              "      <td>0.477117</td>\n",
              "      <td>0.366646</td>\n",
              "      <td>0.125456</td>\n",
              "      <td>0.281652</td>\n",
              "      <td>0</td>\n",
              "    </tr>\n",
              "    <tr>\n",
              "      <th>498</th>\n",
              "      <td>0.375052</td>\n",
              "      <td>0.561252</td>\n",
              "      <td>0.762315</td>\n",
              "      <td>0.763593</td>\n",
              "      <td>0</td>\n",
              "    </tr>\n",
              "    <tr>\n",
              "      <th>499</th>\n",
              "      <td>0.164872</td>\n",
              "      <td>0.641940</td>\n",
              "      <td>0.459453</td>\n",
              "      <td>0.704491</td>\n",
              "      <td>1</td>\n",
              "    </tr>\n",
              "  </tbody>\n",
              "</table>\n",
              "<p>500 rows × 5 columns</p>\n",
              "</div>\n",
              "      <button class=\"colab-df-convert\" onclick=\"convertToInteractive('df-dc130b3d-6478-4e9d-a0ba-3a48953e46e0')\"\n",
              "              title=\"Convert this dataframe to an interactive table.\"\n",
              "              style=\"display:none;\">\n",
              "        \n",
              "  <svg xmlns=\"http://www.w3.org/2000/svg\" height=\"24px\"viewBox=\"0 0 24 24\"\n",
              "       width=\"24px\">\n",
              "    <path d=\"M0 0h24v24H0V0z\" fill=\"none\"/>\n",
              "    <path d=\"M18.56 5.44l.94 2.06.94-2.06 2.06-.94-2.06-.94-.94-2.06-.94 2.06-2.06.94zm-11 1L8.5 8.5l.94-2.06 2.06-.94-2.06-.94L8.5 2.5l-.94 2.06-2.06.94zm10 10l.94 2.06.94-2.06 2.06-.94-2.06-.94-.94-2.06-.94 2.06-2.06.94z\"/><path d=\"M17.41 7.96l-1.37-1.37c-.4-.4-.92-.59-1.43-.59-.52 0-1.04.2-1.43.59L10.3 9.45l-7.72 7.72c-.78.78-.78 2.05 0 2.83L4 21.41c.39.39.9.59 1.41.59.51 0 1.02-.2 1.41-.59l7.78-7.78 2.81-2.81c.8-.78.8-2.07 0-2.86zM5.41 20L4 18.59l7.72-7.72 1.47 1.35L5.41 20z\"/>\n",
              "  </svg>\n",
              "      </button>\n",
              "      \n",
              "  <style>\n",
              "    .colab-df-container {\n",
              "      display:flex;\n",
              "      flex-wrap:wrap;\n",
              "      gap: 12px;\n",
              "    }\n",
              "\n",
              "    .colab-df-convert {\n",
              "      background-color: #E8F0FE;\n",
              "      border: none;\n",
              "      border-radius: 50%;\n",
              "      cursor: pointer;\n",
              "      display: none;\n",
              "      fill: #1967D2;\n",
              "      height: 32px;\n",
              "      padding: 0 0 0 0;\n",
              "      width: 32px;\n",
              "    }\n",
              "\n",
              "    .colab-df-convert:hover {\n",
              "      background-color: #E2EBFA;\n",
              "      box-shadow: 0px 1px 2px rgba(60, 64, 67, 0.3), 0px 1px 3px 1px rgba(60, 64, 67, 0.15);\n",
              "      fill: #174EA6;\n",
              "    }\n",
              "\n",
              "    [theme=dark] .colab-df-convert {\n",
              "      background-color: #3B4455;\n",
              "      fill: #D2E3FC;\n",
              "    }\n",
              "\n",
              "    [theme=dark] .colab-df-convert:hover {\n",
              "      background-color: #434B5C;\n",
              "      box-shadow: 0px 1px 3px 1px rgba(0, 0, 0, 0.15);\n",
              "      filter: drop-shadow(0px 1px 2px rgba(0, 0, 0, 0.3));\n",
              "      fill: #FFFFFF;\n",
              "    }\n",
              "  </style>\n",
              "\n",
              "      <script>\n",
              "        const buttonEl =\n",
              "          document.querySelector('#df-dc130b3d-6478-4e9d-a0ba-3a48953e46e0 button.colab-df-convert');\n",
              "        buttonEl.style.display =\n",
              "          google.colab.kernel.accessAllowed ? 'block' : 'none';\n",
              "\n",
              "        async function convertToInteractive(key) {\n",
              "          const element = document.querySelector('#df-dc130b3d-6478-4e9d-a0ba-3a48953e46e0');\n",
              "          const dataTable =\n",
              "            await google.colab.kernel.invokeFunction('convertToInteractive',\n",
              "                                                     [key], {});\n",
              "          if (!dataTable) return;\n",
              "\n",
              "          const docLinkHtml = 'Like what you see? Visit the ' +\n",
              "            '<a target=\"_blank\" href=https://colab.research.google.com/notebooks/data_table.ipynb>data table notebook</a>'\n",
              "            + ' to learn more about interactive tables.';\n",
              "          element.innerHTML = '';\n",
              "          dataTable['output_type'] = 'display_data';\n",
              "          await google.colab.output.renderOutput(dataTable, element);\n",
              "          const docLink = document.createElement('div');\n",
              "          docLink.innerHTML = docLinkHtml;\n",
              "          element.appendChild(docLink);\n",
              "        }\n",
              "      </script>\n",
              "    </div>\n",
              "  </div>\n",
              "  "
            ]
          },
          "metadata": {},
          "execution_count": 14
        }
      ]
    },
    {
      "cell_type": "code",
      "source": [
        "weights"
      ],
      "metadata": {
        "colab": {
          "base_uri": "https://localhost:8080/"
        },
        "id": "YqD_4UNNk1Hq",
        "outputId": "31f71f10-69e4-4395-a439-f773efbbc33a"
      },
      "execution_count": 11,
      "outputs": [
        {
          "output_type": "execute_result",
          "data": {
            "text/plain": [
              "array([0.16412844, 0.00208141, 0.47481806, 0.22159543])"
            ]
          },
          "metadata": {},
          "execution_count": 11
        }
      ]
    },
    {
      "cell_type": "code",
      "execution_count": 12,
      "metadata": {
        "colab": {
          "base_uri": "https://localhost:8080/"
        },
        "id": "8xyEIr04cwgx",
        "outputId": "c9c83934-726a-4bfb-9328-a338a4326d9c"
      },
      "outputs": [
        {
          "output_type": "stream",
          "name": "stdout",
          "text": [
            "******************************** Epoch: 0 , Loss:  0.36455130384274315\n",
            "******************************** Epoch: 1 , Loss:  0.34179092882650114\n",
            "******************************** Epoch: 2 , Loss:  0.3268359854661497\n",
            "******************************** Epoch: 3 , Loss:  0.31727911258492203\n",
            "******************************** Epoch: 4 , Loss:  0.31127748921372844\n",
            "******************************** Epoch: 5 , Loss:  0.30754444004415804\n",
            "******************************** Epoch: 6 , Loss:  0.30523117388148313\n",
            "******************************** Epoch: 7 , Loss:  0.3037965868158436\n",
            "******************************** Epoch: 8 , Loss:  0.30290256924055053\n",
            "******************************** Epoch: 9 , Loss:  0.30234023660028747\n",
            "******************************** Epoch: 10 , Loss:  0.3019813239283037\n",
            "******************************** Epoch: 11 , Loss:  0.3017473021525487\n",
            "******************************** Epoch: 12 , Loss:  0.3015901428271257\n",
            "******************************** Epoch: 13 , Loss:  0.30148046771125075\n",
            "******************************** Epoch: 14 , Loss:  0.3014002898250872\n",
            "******************************** Epoch: 15 , Loss:  0.30133857942544323\n",
            "******************************** Epoch: 16 , Loss:  0.301288558530143\n",
            "******************************** Epoch: 17 , Loss:  0.30124605033644924\n",
            "******************************** Epoch: 18 , Loss:  0.3012084717474329\n",
            "******************************** Epoch: 19 , Loss:  0.3011742179119699\n",
            "******************************** Epoch: 20 , Loss:  0.30114228581409835\n",
            "******************************** Epoch: 21 , Loss:  0.30111204373750455\n",
            "******************************** Epoch: 22 , Loss:  0.3010830898302461\n",
            "******************************** Epoch: 23 , Loss:  0.3010551651529348\n",
            "******************************** Epoch: 24 , Loss:  0.3010281000871833\n",
            "******************************** Epoch: 25 , Loss:  0.3010017812030167\n",
            "******************************** Epoch: 26 , Loss:  0.3009761306971931\n",
            "******************************** Epoch: 27 , Loss:  0.3009510935736213\n",
            "******************************** Epoch: 28 , Loss:  0.30092662960548666\n",
            "******************************** Epoch: 29 , Loss:  0.30090270826100235\n",
            "******************************** Epoch: 30 , Loss:  0.30087930547383146\n",
            "******************************** Epoch: 31 , Loss:  0.3008564015677062\n",
            "******************************** Epoch: 32 , Loss:  0.3008339799078135\n",
            "******************************** Epoch: 33 , Loss:  0.30081202601325446\n",
            "******************************** Epoch: 34 , Loss:  0.3007905269646792\n",
            "******************************** Epoch: 35 , Loss:  0.3007694710028379\n",
            "******************************** Epoch: 36 , Loss:  0.300748847252094\n",
            "******************************** Epoch: 37 , Loss:  0.3007286455268102\n",
            "******************************** Epoch: 38 , Loss:  0.3007088561934837\n",
            "******************************** Epoch: 39 , Loss:  0.3006894700709502\n",
            "******************************** Epoch: 40 , Loss:  0.3006704783569979\n",
            "******************************** Epoch: 41 , Loss:  0.30065187257356607\n",
            "******************************** Epoch: 42 , Loss:  0.30063364452523916\n",
            "******************************** Epoch: 43 , Loss:  0.3006157862673728\n",
            "******************************** Epoch: 44 , Loss:  0.3005982900812903\n",
            "******************************** Epoch: 45 , Loss:  0.30058114845473244\n",
            "******************************** Epoch: 46 , Loss:  0.3005643540662515\n",
            "******************************** Epoch: 47 , Loss:  0.30054789977258645\n",
            "******************************** Epoch: 48 , Loss:  0.30053177859831853\n",
            "******************************** Epoch: 49 , Loss:  0.3005159837272756\n"
          ]
        }
      ],
      "source": [
        "train_model(data, weights, bias, learning_rate, epochs)"
      ]
    },
    {
      "cell_type": "code",
      "execution_count": 13,
      "metadata": {
        "colab": {
          "base_uri": "https://localhost:8080/",
          "height": 265
        },
        "id": "BfQAgDqhcwgy",
        "outputId": "2ed19d77-dfc8-4c73-accc-bebeb98750e1"
      },
      "outputs": [
        {
          "output_type": "display_data",
          "data": {
            "text/plain": [
              "<Figure size 432x288 with 1 Axes>"
            ],
            "image/png": "[encoded data removed]"
          },
          "metadata": {
            "needs_background": "light"
          }
        }
      ],
      "source": [
        "df = pd.DataFrame(final_epoch_loss)\n",
        "df_plot = df.plot(kind=\"line\", grid=True).get_figure()"
      ]
    },
    {
      "cell_type": "code",
      "execution_count": null,
      "metadata": {
        "id": "vDkE35cecwgy"
      },
      "outputs": [],
      "source": []
    }
  ],
  "metadata": {
    "kernelspec": {
      "display_name": "Python 3.10.6 64-bit",
      "language": "python",
      "name": "python3"
    },
    "language_info": {
      "codemirror_mode": {
        "name": "ipython",
        "version": 3
      },
      "file_extension": ".py",
      "mimetype": "text/x-python",
      "name": "python",
      "nbconvert_exporter": "python",
      "pygments_lexer": "ipython3",
      "version": "3.10.6"
    },
    "orig_nbformat": 4,
    "vscode": {
      "interpreter": {
        "hash": "916dbcbb3f70747c44a77c7bcd40155683ae19c65e1c03b4aa3499c5328201f1"
      }
    },
    "colab": {
      "provenance": [],
      "collapsed_sections": [],
      "include_colab_link": true
    }
  },
  "nbformat": 4,
  "nbformat_minor": 0
}