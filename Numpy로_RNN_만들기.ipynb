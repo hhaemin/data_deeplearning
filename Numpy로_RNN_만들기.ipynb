{
  "nbformat": 4,
  "nbformat_minor": 0,
  "metadata": {
    "colab": {
      "provenance": [],
      "collapsed_sections": [],
      "include_colab_link": true
    },
    "kernelspec": {
      "name": "python3",
      "display_name": "Python 3"
    },
    "language_info": {
      "name": "python"
    }
  },
  "cells": [
    {
      "cell_type": "markdown",
      "metadata": {
        "id": "view-in-github",
        "colab_type": "text"
      },
      "source": [
        "<a href=\"https://colab.research.google.com/github/hhaemin/data_deeplearning/blob/main/Numpy%E1%84%85%E1%85%A9_RNN_%E1%84%86%E1%85%A1%E1%86%AB%E1%84%83%E1%85%B3%E1%86%AF%E1%84%80%E1%85%B5.ipynb\" target=\"_parent\"><img src=\"https://colab.research.google.com/assets/colab-badge.svg\" alt=\"Open In Colab\"/></a>"
      ]
    },
    {
      "cell_type": "code",
      "source": [
        "import numpy as np"
      ],
      "metadata": {
        "id": "17CRLQMoBL73"
      },
      "execution_count": 1,
      "outputs": []
    },
    {
      "cell_type": "code",
      "source": [
        "random_generator = np.random.default_rng()\n",
        "\n",
        "def generate_data(n_features, n_values):\n",
        "    features = random_generator.random((n_features, n_values))\n",
        "    targets = random_generator.random((n_features))\n",
        "    return features, targets"
      ],
      "metadata": {
        "id": "Nc17rwgEQAgw"
      },
      "execution_count": 2,
      "outputs": []
    },
    {
      "cell_type": "code",
      "source": [
        "trainX, trainY = generate_data(5000, 4)\n",
        "testX, testY = generate_data(5, 4)"
      ],
      "metadata": {
        "id": "uFQjrKx_Du7C"
      },
      "execution_count": 3,
      "outputs": []
    },
    {
      "cell_type": "code",
      "source": [
        "trainX.shape"
      ],
      "metadata": {
        "colab": {
          "base_uri": "https://localhost:8080/"
        },
        "id": "ahbwpzHmm1ZZ",
        "outputId": "0fc80bfe-c5d0-4943-8680-4a1eb49ca1b4"
      },
      "execution_count": 4,
      "outputs": [
        {
          "output_type": "execute_result",
          "data": {
            "text/plain": [
              "(5000, 4)"
            ]
          },
          "metadata": {},
          "execution_count": 4
        }
      ]
    },
    {
      "cell_type": "code",
      "source": [
        "trainY.shape"
      ],
      "metadata": {
        "colab": {
          "base_uri": "https://localhost:8080/"
        },
        "id": "NnAq89Lxm3LJ",
        "outputId": "1ca43d39-503d-4a93-cd1a-8b9002136543"
      },
      "execution_count": 5,
      "outputs": [
        {
          "output_type": "execute_result",
          "data": {
            "text/plain": [
              "(5000,)"
            ]
          },
          "metadata": {},
          "execution_count": 5
        }
      ]
    },
    {
      "cell_type": "code",
      "execution_count": 6,
      "metadata": {
        "id": "2fdyt1z7BGYp"
      },
      "outputs": [],
      "source": [
        "class RNN:\n",
        "    def __init__(self):\n",
        "        self.global_weight = [1, 1] # [Input, Recurrent Weight(반복가중치)]\n",
        "        self.local_weight = [0.001, 0.001] #RNN의 input값이 두개이므로, 2개의 값이 존재\n",
        "        self.W_sign = [0, 0]\n",
        "\n",
        "        self.eta_p = 1.2\n",
        "        self.eta_n = 0.5 #예상시간을 찾는데 사용\n",
        "\n",
        "    def state_handler(self, input_x, previous_state):\n",
        "        return input_x * self.global_weight[0] + previous_state * self.global_weight[1]\n",
        "\n",
        "    def forward_propagation(self, X):\n",
        "      # Computes the forward propagation of the RNN.\n",
        "      S = np.zeros((X.shape[0], X.shape[1]+1))\n",
        "      for k in range(0, X.shape[1]):\n",
        "          next_state = self.state_handler(X[:,k], S[:,k])\n",
        "          S[:,k+1] = next_state\n",
        "      return S\n",
        "\n",
        "    def backward_propagation(self, X, S, grad_out):\n",
        "      # Computes the backward propagation of the RNN.\n",
        "        grad_over_time = np.zeros(( X.shape[0], X.shape[1]+1 ))\n",
        "        grad_over_time[:,-1] = grad_out \n",
        "\n",
        "        wx_grad = 0\n",
        "        wy_grad = 0\n",
        "        for k in range(X.shape[1], 0, -1):\n",
        "            wx_grad += np.sum( grad_over_time[:, k] * X[:, k-1] )\n",
        "            wy_grad += np.sum( grad_over_time[:, k] * S[:, k-1] )\n",
        "\n",
        "            grad_over_time[:, k-1] = grad_over_time[:, k] * self.global_weight[1]\n",
        "        return (wx_grad, wy_grad), grad_over_time\n",
        "\n",
        "    def update_rprop(self, X, Y, W_prev_sign, local_weight):\n",
        "        S = self.forward_propagation(X)\n",
        "        grad_out = 2 * (S[:, -1] - Y) / 500\n",
        "        W_grads, _ = self.backward_propagation(X, S, grad_out)\n",
        "        self.W_sign = np.sign(W_grads) #기울기를 반전하는데 사용(모델이 좀 더 빠르게 학습하게 하기 위해서)\n",
        "\n",
        "        for i, _ in enumerate(self.global_weight):\n",
        "            if self.W_sign[i] == W_prev_sign[i]:\n",
        "                local_weight[i] *= self.eta_p\n",
        "            else:\n",
        "                local_weight[i] *= self.eta_n\n",
        "        self.local_weight = local_weight\n",
        "\n",
        "    def train(self, X, Y, training_epochs):\n",
        "        for epochs in range(training_epochs):\n",
        "            self.update_rprop(X, Y, self.W_sign, self.local_weight)\n",
        "\n",
        "            for i, _ in enumerate(self.global_weight):\n",
        "                self.global_weight[i] -= self.W_sign[i] * self.local_weight[i]"
      ]
    },
    {
      "cell_type": "code",
      "source": [
        "rnn = RNN()\n",
        "rnn.train(trainX, trainY, 200) #epochs=200\n",
        "\n",
        "print (f\"Targets are: {testY}\")\n",
        "y = rnn.forward_propagation(testX)[:, -1]\n",
        "print (f\"Predicted are: {y}\")"
      ],
      "metadata": {
        "id": "ZhrUvTW7BXKX",
        "colab": {
          "base_uri": "https://localhost:8080/"
        },
        "outputId": "8ad42b0f-f8a9-4719-89f4-fb3373cec1fa"
      },
      "execution_count": 7,
      "outputs": [
        {
          "output_type": "stream",
          "name": "stdout",
          "text": [
            "Targets are: [0.48192964 0.4187743  0.89427667 0.32485256 0.88326476]\n",
            "Predicted are: [0.54866266 0.33471053 0.65422044 0.39627679 0.31519411]\n"
          ]
        }
      ]
    },
    {
      "cell_type": "code",
      "source": [],
      "metadata": {
        "id": "pTVMYiVKE4Th"
      },
      "execution_count": null,
      "outputs": []
    }
  ]
}